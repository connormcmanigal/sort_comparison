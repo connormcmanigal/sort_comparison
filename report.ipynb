{
 "cells": [
  {
   "cell_type": "markdown",
   "metadata": {},
   "source": [
    "## **DATA260P Project 1: Comparing Sorting Algorithms**\n",
    "\n",
    "##### Connor McManigal and Peyton Politewicz"
   ]
  },
  {
   "cell_type": "markdown",
   "metadata": {},
   "source": [
    "## **Experimental Time Analysis**"
   ]
  },
  {
   "cell_type": "markdown",
   "metadata": {},
   "source": [
    "### MergeSort Time Analysis"
   ]
  },
  {
   "cell_type": "markdown",
   "metadata": {},
   "source": [
    "![Merge1](mergetr.png)"
   ]
  },
  {
   "cell_type": "markdown",
   "metadata": {},
   "source": [
    "![Merge2](mergeas.png)"
   ]
  },
  {
   "cell_type": "markdown",
   "metadata": {},
   "source": [
    "![Merge3](mergerun.png)"
   ]
  },
  {
   "cell_type": "markdown",
   "metadata": {},
   "source": [
    "### QuickSort Time Analysis"
   ]
  },
  {
   "cell_type": "markdown",
   "metadata": {},
   "source": [
    "![Quick1](quicktr.png)"
   ]
  },
  {
   "cell_type": "markdown",
   "metadata": {},
   "source": [
    "![Quick2](quickas.png)"
   ]
  },
  {
   "cell_type": "markdown",
   "metadata": {},
   "source": [
    "![Quick3](quickrun.png)"
   ]
  },
  {
   "cell_type": "markdown",
   "metadata": {},
   "source": [
    "### InsertionSort Time Analysis"
   ]
  },
  {
   "cell_type": "markdown",
   "metadata": {},
   "source": [
    "![Insertion1](insertiontr.png)"
   ]
  },
  {
   "cell_type": "markdown",
   "metadata": {},
   "source": [
    "![Insertion2](insertionas.png)"
   ]
  },
  {
   "cell_type": "markdown",
   "metadata": {},
   "source": [
    "![Insertion3](insertionrun.png)"
   ]
  },
  {
   "cell_type": "markdown",
   "metadata": {},
   "source": [
    "### ShellSort Time Analysis"
   ]
  },
  {
   "cell_type": "markdown",
   "metadata": {},
   "source": [
    "![Shell1](shelltr.png)"
   ]
  },
  {
   "cell_type": "markdown",
   "metadata": {},
   "source": [
    "![Shell2](shellas.png)"
   ]
  },
  {
   "cell_type": "markdown",
   "metadata": {},
   "source": [
    "![Shell3](shell1run.png)"
   ]
  },
  {
   "cell_type": "markdown",
   "metadata": {},
   "source": [
    "![Shell4](shell2run.png)"
   ]
  },
  {
   "cell_type": "markdown",
   "metadata": {},
   "source": [
    "### BucketSort Time Analysis"
   ]
  },
  {
   "cell_type": "markdown",
   "metadata": {},
   "source": [
    "![Bucket1](buckettr.png)"
   ]
  },
  {
   "cell_type": "markdown",
   "metadata": {},
   "source": [
    "![Bucket2](bucketas.png)"
   ]
  },
  {
   "cell_type": "markdown",
   "metadata": {},
   "source": [
    "![Bucket3](bucketrun.png)"
   ]
  },
  {
   "cell_type": "markdown",
   "metadata": {},
   "source": [
    "### RadixSort Time Analysis"
   ]
  },
  {
   "cell_type": "markdown",
   "metadata": {},
   "source": [
    "![Radix1](radixtr.png)"
   ]
  },
  {
   "cell_type": "markdown",
   "metadata": {},
   "source": [
    "![Radix2](radixas.png)"
   ]
  },
  {
   "cell_type": "markdown",
   "metadata": {},
   "source": [
    "![Radix3](radixrun.png)"
   ]
  },
  {
   "cell_type": "markdown",
   "metadata": {},
   "source": [
    "### BinaryInsertionSort Time Analysis"
   ]
  },
  {
   "cell_type": "markdown",
   "metadata": {},
   "source": [
    "I wrote the BinaryInsertionSort algorithm in an effort to improve runtime from the slow and clunky InsertionSort implementation(it appeared to be the slowest of our algorithms). After running InsertionSort and observing ~4 second runtimes on the larger data size(16000), I wanted to find an approach that could drastically enhance its performance on large dataset sizes. I used two helper functions, one to perform the binary search to find the correct position to insert an element into the sorted subarray(binary_search()) and the other to execute the sorting logic in conjunction with the binary search mechanism(sort()). After completing my implementation for BinaryInsertionSort, both the truly random and almost sorted data of size 16000 saw immense improvements: roughly ~4 seconds runtimes on truly random and almost sorted data of size 16000 with InsertionSort to under 0.4 seconds with BinaryInsertionSort. BinaryInsertionSort roughly improved runtime from InsertionSort by around 90%. (Connor)"
   ]
  },
  {
   "cell_type": "markdown",
   "metadata": {},
   "source": [
    "**BinaryInsertionSort Natural Language PsuedoCode**:\n",
    "\n",
    "*Input for sort()*: truly random generated array or almost sorted array of numbers\n",
    "\n",
    "        1. For each element (starting from the second element) in the array:\n",
    "                1.a Set \"current\" to the element at the current index of the loop\n",
    "                1.b Set \"j\" to a binary_search() call to find the correct position to insert \"current\" into the sorted subarray\n",
    "                        1.bi (nested binary_search()) While the start index \"start\" is less than the end index \"end\":\n",
    "                                1.bi(a) Calculate the midpoint index \"mid\" by finding the halfway point of \"start\" and \"end\"\n",
    "                                1.bi(b) If the value of the midpoint \"mid\" is less than the target value \"value\":\n",
    "                                        1.bi(bi) Set the start index \"start\" to the midpoint plus 1 \"mid + 1\"\n",
    "                                1.bi(c) Else:\n",
    "                                        1.bi(ci) Set the end index \"end\" to the midpoint index \"mid\"\n",
    "                        1.bii Return the start index \"start\" as the position for which the \"value\" should be inserted\n",
    "                1.c Shift elements from \"data\" index \"i - 1\" to \"j + 1\" by one position to make room for the \"current\" element\n",
    "                1.d Place the \"current\" element at index \"j\" of \"data\"\n",
    "        2. Return the sorted array \"data\"\n",
    "\n",
    "*Output for sort()*: array in ascending order\n",
    "\n",
    "- *Input for binary_search()*: sorted array \"data\", value to be searched for \"value\"(\"current\" in sort()), start index of array \"start\", and end idex of array \"end\"\n",
    "- *Output for binary_search()*: index where target value should be inserted\n",
    "\n",
    "**BinaryInsertionSort PsuedoCode**:\n",
    "\n",
    "    class CustomSort1:\n",
    "        def __init__(self,):\n",
    "            self.time = 0\n",
    "\n",
    "        def binary_search(self, data to be sorted, target value for insertion, start index, end index):\n",
    "            while start index < end index:\n",
    "                midpoint index = (start index + end index) // 2\n",
    "                if data to be sorted[midpoint index] < target value:\n",
    "                    start index = midpoint + 1\n",
    "                else:\n",
    "                    end index = midpoint index\n",
    "            return start index\n",
    "    \n",
    "        def sort(self, data to be sorted):\n",
    "            for index i from 1 to length(data) - 1:\n",
    "                current value = data to be sorted[ index i]\n",
    "                index j = binary_search(data to be sorted, current value, 0, index i)\n",
    "                data to be sorted[index j + 1: index i + 1] = data to be sorted[index j:index i]\n",
    "                data to be sorted[index j] = current value\n",
    "            return data to be sorted(sorted data)"
   ]
  },
  {
   "cell_type": "markdown",
   "metadata": {},
   "source": [
    "Here are some descriptive statistics showing improvement between InsertionSort and BinaryInsertionSort:\n",
    "\n",
    "InsertionSort Trial Mean Runtime: True Random versus Almost Sorted\n",
    "- Data size 1000:\n",
    "    - True Random = 0.014231\n",
    "    - Almost Sorted = 0.014569\n",
    "- Data size 2000:\n",
    "    - True Random = 0.059532\n",
    "    - Almost Sorted = 0.060629\n",
    "- Data size 4000:\n",
    "    - True Random = 0.238787\n",
    "    - Almost Sorted = 0.246475\n",
    "- Data size 8000:\n",
    "    - True Random = 0.969146\n",
    "    - Almost Sorted = 1.009487\n",
    "- Data size 16000:\n",
    "    - True Random = 3.890531\n",
    "    - Almost Sorted = 4.014915\n",
    "    \n",
    "BinaryInsertionSort Trial Mean Runtime: True Random Versus Almost Sorted\n",
    "- Data size 1000:\n",
    "    - True Random = 0.001883\n",
    "    - Almost Sorted = 0.003715\n",
    "- Data size 2000:\n",
    "    - True Random = 0.005813\n",
    "    - Almost Sorted = 0.008557\n",
    "- Data size 4000:\n",
    "    - True Random = 0.021521\n",
    "    - Almost Sorted = 0.019439\n",
    "- Data size 8000:\n",
    "    - True Random = 0.091408\n",
    "    - Almost Sorted = 0.045178\n",
    "- Data size 16000:\n",
    "    - True Random = 0.382972\n",
    "    - Almost Sorted = 0.112133\n",
    "\n",
    "As we can see, these statistics clearly illustrate the substantial runtime improvements achieved by BinaryInsertionSort. Across both true random and almost sorted inputs, BinaryInsertionSort consistently demonstrated lower mean runtimes compared to InsertionSort. For example, on the dataset size of 16000, InsertionSort performed a mean run time of 3.89 seconds on the truly random generated array and 4.01 seconds on the almost sorted generated array. On the other hand, BinaryInsertionSort performed a mean run time of 0.38 seconds on the true random data and 0.11 seconds on the almost sorted data. This is the runtime improvement I was looking for when I set out to improve InsertionSort."
   ]
  },
  {
   "cell_type": "markdown",
   "metadata": {},
   "source": [
    "![BIS1](bistr.png)"
   ]
  },
  {
   "cell_type": "markdown",
   "metadata": {},
   "source": [
    "![BIS2](bisas.png)"
   ]
  },
  {
   "cell_type": "markdown",
   "metadata": {},
   "source": [
    "![BIS3](bisrun.png)"
   ]
  },
  {
   "cell_type": "markdown",
   "metadata": {},
   "source": [
    "### Median of Medians QuickSort Time Analysis"
   ]
  },
  {
   "cell_type": "markdown",
   "metadata": {},
   "source": [
    "![MOM1](momtr.png)"
   ]
  },
  {
   "cell_type": "markdown",
   "metadata": {},
   "source": [
    "![MOM2](momas.png)"
   ]
  },
  {
   "cell_type": "markdown",
   "metadata": {},
   "source": [
    "![MOM3](momrun.png)"
   ]
  },
  {
   "cell_type": "markdown",
   "metadata": {},
   "source": [
    "## **Comparative Time Analysis**"
   ]
  },
  {
   "cell_type": "markdown",
   "metadata": {},
   "source": []
  },
  {
   "cell_type": "markdown",
   "metadata": {},
   "source": []
  },
  {
   "cell_type": "markdown",
   "metadata": {},
   "source": []
  }
 ],
 "metadata": {
  "kernelspec": {
   "display_name": "Python 3",
   "language": "python",
   "name": "python3"
  },
  "language_info": {
   "codemirror_mode": {
    "name": "ipython",
    "version": 3
   },
   "file_extension": ".py",
   "mimetype": "text/x-python",
   "name": "python",
   "nbconvert_exporter": "python",
   "pygments_lexer": "ipython3",
   "version": "3.9.6"
  }
 },
 "nbformat": 4,
 "nbformat_minor": 2
}
