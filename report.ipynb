{
 "cells": [
  {
   "cell_type": "markdown",
   "metadata": {},
   "source": [
    "## **DATA260P Project 1: Comparing Sorting Algorithms**\n",
    "\n",
    "##### Connor McManigal and Peyton Politewicz"
   ]
  },
  {
   "cell_type": "markdown",
   "metadata": {},
   "source": [
    "## **Experimental Time Analysis**"
   ]
  },
  {
   "cell_type": "code",
   "execution_count": 12,
   "metadata": {},
   "outputs": [],
   "source": [
    "import pandas as pd\n",
    "import matplotlib.pyplot as plt\n",
    "\n",
    "tr_df = pd.read_csv('uniform_results.csv')\n",
    "as_df = pd.read_csv('almost_sorted_results.csv')"
   ]
  },
  {
   "cell_type": "markdown",
   "metadata": {},
   "source": [
    "### MergeSort Time Analysis"
   ]
  },
  {
   "cell_type": "code",
   "execution_count": 13,
   "metadata": {},
   "outputs": [],
   "source": [
    "merge_tr_1000 = tr_df[(tr_df['Algorithm'] == 'MergeSort') & (tr_df['Data Size'] == 1000)]\n",
    "merge_tr_2000 = tr_df[(tr_df['Algorithm'] == 'MergeSort') & (tr_df['Data Size'] == 2000)]\n",
    "merge_tr_4000 = tr_df[(tr_df['Algorithm'] == 'MergeSort') & (tr_df['Data Size'] == 4000)]\n",
    "merge_tr_8000 = tr_df[(tr_df['Algorithm'] == 'MergeSort') & (tr_df['Data Size'] == 8000)]\n",
    "merge_tr_16000 = tr_df[(tr_df['Algorithm'] == 'MergeSort') & (tr_df['Data Size'] == 16000)]\n",
    "\n",
    "merge_as_1000 = as_df[(as_df['Algorithm'] == 'MergeSort') & (as_df['Data Size'] == 1000)]\n",
    "merge_as_2000 = as_df[(as_df['Algorithm'] == 'MergeSort') & (as_df['Data Size'] == 2000)]\n",
    "merge_as_4000 = as_df[(as_df['Algorithm'] == 'MergeSort') & (as_df['Data Size'] == 4000)]\n",
    "merge_as_8000 = as_df[(as_df['Algorithm'] == 'MergeSort') & (as_df['Data Size'] == 8000)]\n",
    "merge_as_16000 = as_df[(as_df['Algorithm'] == 'MergeSort') & (as_df['Data Size'] == 16000)]"
   ]
  },
  {
   "cell_type": "markdown",
   "metadata": {},
   "source": [
    "#### Plotting MergeSort: True Random vs. Almost Sorted"
   ]
  },
  {
   "cell_type": "code",
   "execution_count": null,
   "metadata": {},
   "outputs": [],
   "source": []
  },
  {
   "cell_type": "markdown",
   "metadata": {},
   "source": [
    "### QuickSort Time Analysis"
   ]
  },
  {
   "cell_type": "code",
   "execution_count": null,
   "metadata": {},
   "outputs": [],
   "source": [
    "quick_tr_1000 = tr_df[(tr_df['Algorithm'] == 'QuickSort') & (tr_df['Data Size'] == 1000)]\n",
    "quick_tr_2000 = tr_df[(tr_df['Algorithm'] == 'QuickSort') & (tr_df['Data Size'] == 2000)]\n",
    "quick_tr_4000 = tr_df[(tr_df['Algorithm'] == 'QuickSort') & (tr_df['Data Size'] == 4000)]\n",
    "quick_tr_8000 = tr_df[(tr_df['Algorithm'] == 'QuickSort') & (tr_df['Data Size'] == 8000)]\n",
    "quick_tr_16000 = tr_df[(tr_df['Algorithm'] == 'QuickSort') & (tr_df['Data Size'] == 16000)]\n",
    "\n",
    "quick_as_1000 = as_df[(as_df['Algorithm'] == 'QuickSort') & (as_df['Data Size'] == 1000)]\n",
    "quick_as_2000 = as_df[(as_df['Algorithm'] == 'QuickSort') & (as_df['Data Size'] == 2000)]\n",
    "quick_as_4000 = as_df[(as_df['Algorithm'] == 'QuickSort') & (as_df['Data Size'] == 4000)]\n",
    "quick_as_8000 = as_df[(as_df['Algorithm'] == 'QuickSort') & (as_df['Data Size'] == 8000)]\n",
    "quick_as_16000 = as_df[(as_df['Algorithm'] == 'QuickSort') & (as_df['Data Size'] == 16000)]"
   ]
  },
  {
   "cell_type": "markdown",
   "metadata": {},
   "source": [
    "### InsertionSort Time Analysis"
   ]
  },
  {
   "cell_type": "code",
   "execution_count": null,
   "metadata": {},
   "outputs": [],
   "source": [
    "insertion_tr_1000 = tr_df[(tr_df['Algorithm'] == 'InsertionSort') & (tr_df['Data Size'] == 1000)]\n",
    "inseriont_tr_2000 = tr_df[(tr_df['Algorithm'] == 'InsertionSort') & (tr_df['Data Size'] == 2000)]\n",
    "insertion_tr_4000 = tr_df[(tr_df['Algorithm'] == 'InsertionSort') & (tr_df['Data Size'] == 4000)]\n",
    "insertion_tr_8000 = tr_df[(tr_df['Algorithm'] == 'InsertionSort') & (tr_df['Data Size'] == 8000)]\n",
    "insertion_tr_16000 = tr_df[(tr_df['Algorithm'] == 'InsertionSort') & (tr_df['Data Size'] == 16000)]\n",
    "\n",
    "insertion_as_1000 = as_df[(as_df['Algorithm'] == 'InsertionSort') & (as_df['Data Size'] == 1000)]\n",
    "insertion_as_2000 = as_df[(as_df['Algorithm'] == 'InsertionSort') & (as_df['Data Size'] == 2000)]\n",
    "insertion_as_4000 = as_df[(as_df['Algorithm'] == 'InsertionSort') & (as_df['Data Size'] == 4000)]\n",
    "insertion_as_8000 = as_df[(as_df['Algorithm'] == 'InsertionSort') & (as_df['Data Size'] == 8000)]\n",
    "insertion_as_16000 = as_df[(as_df['Algorithm'] == 'InsertionSort') & (as_df['Data Size'] == 16000)]"
   ]
  },
  {
   "cell_type": "markdown",
   "metadata": {},
   "source": [
    "### ShellSort Time Analysis"
   ]
  },
  {
   "cell_type": "code",
   "execution_count": null,
   "metadata": {},
   "outputs": [],
   "source": [
    "# there are two shell sorts being called \"1\" and \"2\" --> decide hwo to do this\n",
    "shell_tr_1000 = tr_df[(tr_df['Algorithm'] == 'ShellSort') & (tr_df['Data Size'] == 1000)]\n",
    "shell_tr_2000 = tr_df[(tr_df['Algorithm'] == 'ShellSort') & (tr_df['Data Size'] == 2000)]\n",
    "shell_tr_4000 = tr_df[(tr_df['Algorithm'] == 'ShellSort') & (tr_df['Data Size'] == 4000)]\n",
    "shell_tr_8000 = tr_df[(tr_df['Algorithm'] == 'ShellSort') & (tr_df['Data Size'] == 8000)]\n",
    "shell_tr_16000 = tr_df[(tr_df['Algorithm'] == 'ShellSort') & (tr_df['Data Size'] == 16000)]\n",
    "\n",
    "shell_as_1000 = as_df[(as_df['Algorithm'] == 'ShellSort') & (as_df['Data Size'] == 1000)]\n",
    "shell_as_2000 = as_df[(as_df['Algorithm'] == 'ShellSort') & (as_df['Data Size'] == 2000)]\n",
    "shell_as_4000 = as_df[(as_df['Algorithm'] == 'ShellSort') & (as_df['Data Size'] == 4000)]\n",
    "shell_as_8000 = as_df[(as_df['Algorithm'] == 'ShellSort') & (as_df['Data Size'] == 8000)]\n",
    "shell_as_16000 = as_df[(as_df['Algorithm'] == 'ShellSort') & (as_df['Data Size'] == 16000)]"
   ]
  },
  {
   "cell_type": "markdown",
   "metadata": {},
   "source": [
    "### BucketSort Time Analysis"
   ]
  },
  {
   "cell_type": "code",
   "execution_count": null,
   "metadata": {},
   "outputs": [],
   "source": [
    "bucket_tr_1000 = tr_df[(tr_df['Algorithm'] == 'BucketSort') & (tr_df['Data Size'] == 1000)]\n",
    "bucket_tr_2000 = tr_df[(tr_df['Algorithm'] == 'BucketSort') & (tr_df['Data Size'] == 2000)]\n",
    "bucket_tr_4000 = tr_df[(tr_df['Algorithm'] == 'BucketSort') & (tr_df['Data Size'] == 4000)]\n",
    "bucket_tr_8000 = tr_df[(tr_df['Algorithm'] == 'BucketSort') & (tr_df['Data Size'] == 8000)]\n",
    "bucket_tr_16000 = tr_df[(tr_df['Algorithm'] == 'BucketSort') & (tr_df['Data Size'] == 16000)]\n",
    "\n",
    "bucket_as_1000 = as_df[(as_df['Algorithm'] == 'BucketSort') & (as_df['Data Size'] == 1000)]\n",
    "bucket_as_2000 = as_df[(as_df['Algorithm'] == 'BucketSort') & (as_df['Data Size'] == 2000)]\n",
    "bucket_as_4000 = as_df[(as_df['Algorithm'] == 'BucketSort') & (as_df['Data Size'] == 4000)]\n",
    "bucket_as_8000 = as_df[(as_df['Algorithm'] == 'BucketSort') & (as_df['Data Size'] == 8000)]\n",
    "bucket_as_16000 = as_df[(as_df['Algorithm'] == 'BucketSort') & (as_df['Data Size'] == 16000)]"
   ]
  },
  {
   "cell_type": "markdown",
   "metadata": {},
   "source": [
    "### RadixSort Time Analysis"
   ]
  },
  {
   "cell_type": "code",
   "execution_count": null,
   "metadata": {},
   "outputs": [],
   "source": [
    "radix_tr_1000 = tr_df[(tr_df['Algorithm'] == 'RadixSort') & (tr_df['Data Size'] == 1000)]\n",
    "radix_tr_2000 = tr_df[(tr_df['Algorithm'] == 'RadixSort') & (tr_df['Data Size'] == 2000)]\n",
    "radix_tr_4000 = tr_df[(tr_df['Algorithm'] == 'RadixSort') & (tr_df['Data Size'] == 4000)]\n",
    "radix_tr_8000 = tr_df[(tr_df['Algorithm'] == 'RadixSort') & (tr_df['Data Size'] == 8000)]\n",
    "radix_tr_16000 = tr_df[(tr_df['Algorithm'] == 'RadixSort') & (tr_df['Data Size'] == 16000)]\n",
    "\n",
    "radix_as_1000 = as_df[(as_df['Algorithm'] == 'RadixSort') & (as_df['Data Size'] == 1000)]\n",
    "radix_as_2000 = as_df[(as_df['Algorithm'] == 'RadixSort') & (as_df['Data Size'] == 2000)]\n",
    "radix_as_4000 = as_df[(as_df['Algorithm'] == 'RadixSort') & (as_df['Data Size'] == 4000)]\n",
    "radix_as_8000 = as_df[(as_df['Algorithm'] == 'RadixSort') & (as_df['Data Size'] == 8000)]\n",
    "radix_as_16000 = as_df[(as_df['Algorithm'] == 'RadixSort') & (as_df['Data Size'] == 16000)]"
   ]
  },
  {
   "cell_type": "markdown",
   "metadata": {},
   "source": [
    "### BinaryInsertionSort Time Analysis"
   ]
  },
  {
   "cell_type": "code",
   "execution_count": null,
   "metadata": {},
   "outputs": [],
   "source": [
    "bis_tr_1000 = tr_df[(tr_df['Algorithm'] == 'BinaryInsertionSort') & (tr_df['Data Size'] == 1000)]\n",
    "bis_tr_2000 = tr_df[(tr_df['Algorithm'] == 'BinaryInsertionSort') & (tr_df['Data Size'] == 2000)]\n",
    "bis_tr_4000 = tr_df[(tr_df['Algorithm'] == 'BinaryInsertionSort') & (tr_df['Data Size'] == 4000)]\n",
    "bis_tr_8000 = tr_df[(tr_df['Algorithm'] == 'BinaryInsertionSort') & (tr_df['Data Size'] == 8000)]\n",
    "bis_tr_16000 = tr_df[(tr_df['Algorithm'] == 'BinaryInsertionSort') & (tr_df['Data Size'] == 16000)]\n",
    "\n",
    "bis_as_1000 = as_df[(as_df['Algorithm'] == 'BinaryInsertionSort') & (as_df['Data Size'] == 1000)]\n",
    "bis_as_2000 = as_df[(as_df['Algorithm'] == 'BinaryInsertionSort') & (as_df['Data Size'] == 2000)]\n",
    "bis_as_4000 = as_df[(as_df['Algorithm'] == 'BinaryInsertionSort') & (as_df['Data Size'] == 4000)]\n",
    "bis_as_8000 = as_df[(as_df['Algorithm'] == 'BinaryInsertionSort') & (as_df['Data Size'] == 8000)]\n",
    "bis_as_16000 = as_df[(as_df['Algorithm'] == 'BinaryInsertionSort') & (as_df['Data Size'] == 16000)]"
   ]
  },
  {
   "cell_type": "markdown",
   "metadata": {},
   "source": [
    "### Peyton's Custom Algorithm"
   ]
  },
  {
   "cell_type": "code",
   "execution_count": null,
   "metadata": {},
   "outputs": [],
   "source": []
  },
  {
   "cell_type": "markdown",
   "metadata": {},
   "source": [
    "## **Comparative Time Analysis**"
   ]
  },
  {
   "cell_type": "markdown",
   "metadata": {},
   "source": []
  }
 ],
 "metadata": {
  "kernelspec": {
   "display_name": "Python 3",
   "language": "python",
   "name": "python3"
  },
  "language_info": {
   "codemirror_mode": {
    "name": "ipython",
    "version": 3
   },
   "file_extension": ".py",
   "mimetype": "text/x-python",
   "name": "python",
   "nbconvert_exporter": "python",
   "pygments_lexer": "ipython3",
   "version": "3.9.6"
  }
 },
 "nbformat": 4,
 "nbformat_minor": 2
}
